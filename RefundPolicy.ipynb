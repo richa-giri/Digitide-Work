{
  "nbformat": 4,
  "nbformat_minor": 0,
  "metadata": {
    "colab": {
      "provenance": [],
      "authorship_tag": "ABX9TyOYCf/93XMjTMUX4VXMWNca",
      "include_colab_link": true
    },
    "kernelspec": {
      "name": "python3",
      "display_name": "Python 3"
    },
    "language_info": {
      "name": "python"
    }
  },
  "cells": [
    {
      "cell_type": "markdown",
      "metadata": {
        "id": "view-in-github",
        "colab_type": "text"
      },
      "source": [
        "<a href=\"https://colab.research.google.com/github/richa-giri/Digitide-Work/blob/main/RefundPolicy.ipynb\" target=\"_parent\"><img src=\"https://colab.research.google.com/assets/colab-badge.svg\" alt=\"Open In Colab\"/></a>"
      ]
    },
    {
      "cell_type": "code",
      "source": [
        "!pip install --upgrade pip\n",
        "!pip install langchain langchain-community faiss-cpu sentence-transformers transformers accelerate\n"
      ],
      "metadata": {
        "id": "S8hlZg4OhYZ-"
      },
      "execution_count": null,
      "outputs": []
    },
    {
      "cell_type": "code",
      "source": [
        "company_policy = \"\"\"\n",
        "Company Policy Document\n",
        "\n",
        "Refund Policy:\n",
        "We offer a full refund within 30 days of purchase if the product is unused and in its original packaging.\n",
        "Refunds will be processed within 7 business days after approval.\n",
        "Shipping fees are non-refundable.\n",
        "\n",
        "Return Exceptions:\n",
        "Digital goods are not eligible for refunds unless explicitly stated.\n",
        "\"\"\"\n",
        "\n",
        "with open(\"policy.txt\", \"w\", encoding=\"utf-8\") as f:\n",
        "    f.write(company_policy)\n"
      ],
      "metadata": {
        "id": "thfjd7EfhczL"
      },
      "execution_count": null,
      "outputs": []
    },
    {
      "cell_type": "code",
      "source": [
        "from langchain_community.document_loaders import TextLoader\n",
        "from langchain.text_splitter import CharacterTextSplitter\n",
        "from langchain_community.embeddings import HuggingFaceEmbeddings\n",
        "from langchain_community.vectorstores import FAISS\n",
        "\n",
        "loader = TextLoader(\"policy.txt\", encoding=\"utf-8\")\n",
        "docs = loader.load()\n",
        "\n",
        "splitter = CharacterTextSplitter(chunk_size=400, chunk_overlap=50)\n",
        "chunks = splitter.split_documents(docs)\n",
        "\n",
        "embeddings = HuggingFaceEmbeddings(model_name=\"sentence-transformers/all-MiniLM-L6-v2\")\n",
        "\n",
        "vectorstore = FAISS.from_documents(chunks, embeddings)\n"
      ],
      "metadata": {
        "id": "vAXkW-yahguz"
      },
      "execution_count": null,
      "outputs": []
    },
    {
      "cell_type": "code",
      "source": [
        "from langchain.chains import RetrievalQA\n",
        "from langchain_community.llms import HuggingFacePipeline\n",
        "from transformers import pipeline\n",
        "\n",
        "pipe = pipeline(\n",
        "    task=\"text2text-generation\",\n",
        "    model=\"google/flan-t5-small\",\n",
        "    device=-1,  # CPU; use device=0 for GPU\n",
        "    max_length=256,\n",
        ")\n",
        "\n",
        "hf_llm = HuggingFacePipeline(pipeline=pipe)\n",
        "\n",
        "qa = RetrievalQA.from_chain_type(\n",
        "    llm=hf_llm,\n",
        "    chain_type=\"stuff\",\n",
        "    retriever=vectorstore.as_retriever()\n",
        ")\n"
      ],
      "metadata": {
        "id": "ctAKIOIkhw9H"
      },
      "execution_count": null,
      "outputs": []
    },
    {
      "cell_type": "code",
      "source": [
        "query = \"What is the refund policy?\"\n",
        "answer = qa.run(query)\n",
        "\n",
        "print(\"Question:\", query)\n",
        "print(\"Answer:\\n\", answer)\n"
      ],
      "metadata": {
        "id": "GJWzkJmSh7FQ"
      },
      "execution_count": null,
      "outputs": []
    }
  ]
}