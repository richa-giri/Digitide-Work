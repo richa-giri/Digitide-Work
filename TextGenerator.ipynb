{
  "nbformat": 4,
  "nbformat_minor": 0,
  "metadata": {
    "colab": {
      "provenance": [],
      "authorship_tag": "ABX9TyOcwJpFpylnXYtSST4NU5L4",
      "include_colab_link": true
    },
    "kernelspec": {
      "name": "python3",
      "display_name": "Python 3"
    },
    "language_info": {
      "name": "python"
    }
  },
  "cells": [
    {
      "cell_type": "markdown",
      "metadata": {
        "id": "view-in-github",
        "colab_type": "text"
      },
      "source": [
        "<a href=\"https://colab.research.google.com/github/richa-giri/Digitide-Work/blob/main/TextGenerator.ipynb\" target=\"_parent\"><img src=\"https://colab.research.google.com/assets/colab-badge.svg\" alt=\"Open In Colab\"/></a>"
      ]
    },
    {
      "cell_type": "code",
      "execution_count": null,
      "metadata": {
        "id": "P-WgmjQjbGU0"
      },
      "outputs": [],
      "source": [
        "!pip install transformers\n"
      ]
    },
    {
      "cell_type": "code",
      "source": [
        "from transformers import pipeline\n",
        "\n",
        "# Load text generation pipeline\n",
        "generator = pipeline(\"text-generation\", model=\"gpt2\")\n"
      ],
      "metadata": {
        "id": "UFnPP4NUbSSo"
      },
      "execution_count": null,
      "outputs": []
    },
    {
      "cell_type": "code",
      "source": [
        "prompt = \"Once upon a time in a faraway galaxy,\"\n",
        "result = generator(prompt, max_length=50, num_return_sequences=1)\n",
        "\n",
        "print(result[0][\"generated_text\"])\n",
        "\n"
      ],
      "metadata": {
        "id": "dJuv_WjLcLHn"
      },
      "execution_count": null,
      "outputs": []
    },
    {
      "cell_type": "code",
      "source": [
        "prompt = \"Write a short poem about the ocean.\"\n",
        "prompt = \"Tell a bedtime story about a robot.\"\n",
        "prompt = \"Describe the future of artificial intelligence.\"\n",
        "\n"
      ],
      "metadata": {
        "id": "pgFuduWjcQFj"
      },
      "execution_count": null,
      "outputs": []
    }
  ]
}