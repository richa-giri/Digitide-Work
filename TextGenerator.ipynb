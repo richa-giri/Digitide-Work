{
  "nbformat": 4,
  "nbformat_minor": 0,
  "metadata": {
    "colab": {
      "provenance": [],
      "authorship_tag": "ABX9TyOcwJpFpylnXYtSST4NU5L4",
      "include_colab_link": true
    },
    "kernelspec": {
      "name": "python3",
      "display_name": "Python 3"
    },
    "language_info": {
      "name": "python"
    }
  },
  "cells": [
    {
      "cell_type": "markdown",
      "metadata": {
        "id": "view-in-github",
        "colab_type": "text"
      },
      "source": [
        "<a href=\"https://colab.research.google.com/github/richa-giri/Digitide-Work/blob/main/TextGenerator.ipynb\" target=\"_parent\"><img src=\"https://colab.research.google.com/assets/colab-badge.svg\" alt=\"Open In Colab\"/></a>"
      ]
    },
    {
      "cell_type": "code",
      "execution_count": null,
      "metadata": {
        "id": "P-WgmjQjbGU0"
      },
      "outputs": [],
      "source": [
        "!pip install transformers\n"
      ]
    },
    {
      "cell_type": "code",
      "source": [
        "from transformers import pipeline\n",
        "\n",
        "# Load text generation pipeline\n",
        "generator = pipeline(\"text-generation\", model=\"gpt2\")\n"
      ],
      "metadata": {
        "id": "UFnPP4NUbSSo"
      },
      "execution_count": null,
      "outputs": []
    },
    {
      "cell_type": "code",
      "source": [
        "prompt = \"Once upon a time in a faraway galaxy,\"\n",
        "result = generator(prompt, max_length=50, num_return_sequences=1)\n",
        "\n",
        "print(result[0][\"generated_text\"])\n",
        "\n"
      ],
      "metadata": {
        "colab": {
          "base_uri": "https://localhost:8080/"
        },
        "id": "dJuv_WjLcLHn",
        "outputId": "1281e56b-9003-427c-e923-7b0f88fb61d7"
      },
      "execution_count": 5,
      "outputs": [
        {
          "output_type": "stream",
          "name": "stderr",
          "text": [
            "Setting `pad_token_id` to `eos_token_id`:50256 for open-end generation.\n",
            "Both `max_new_tokens` (=256) and `max_length`(=50) seem to have been set. `max_new_tokens` will take precedence. Please refer to the documentation for more information. (https://huggingface.co/docs/transformers/main/en/main_classes/text_generation)\n"
          ]
        },
        {
          "output_type": "stream",
          "name": "stdout",
          "text": [
            "Once upon a time in a faraway galaxy, the life forms of the planet, the inhabitants of this world and of their friends, will take on the characteristics of the stars, and their inhabitants will become more and more like the stars.\n",
            "\n",
            "If we look back to the past, it is with a degree of amazement that the world now contains, and which is now being seen to be, the very first stars, and the first life form.\n",
            "\n",
            "We have seen the stars to be two of the most brilliant in the universe, the first being Jupiter, and the second being a distant, distant planet called the Solar System. We have seen this to be a very significant phenomenon, a phenomenon on which to build a theory, and a theory which will convince the world that these first stars were and are not, the first life form, the first life form and the first life form.\n",
            "\n",
            "It is only a matter of time before we see these to be so.\n",
            "\n",
            "We shall soon see that there is an enormous, highly intelligent being, and that these will be very much like the first life forms of the universe, and that the first life form will be the Earth, and the first life form will be the Milky Way.\n",
            "\n",
            "What we do not see of this world, it is not\n"
          ]
        }
      ]
    },
    {
      "cell_type": "code",
      "source": [
        "prompt = \"Write a short poem about the ocean.\"\n",
        "prompt = \"Tell a bedtime story about a robot.\"\n",
        "prompt = \"Describe the future of artificial intelligence.\"\n",
        "\n"
      ],
      "metadata": {
        "id": "pgFuduWjcQFj"
      },
      "execution_count": null,
      "outputs": []
    }
  ]
}